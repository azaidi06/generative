{
 "cells": [
  {
   "cell_type": "raw",
   "id": "d63bc8aa-1ad6-4f8d-9be9-52edd69fdbf6",
   "metadata": {},
   "source": [
    "---\n",
    "title: \"Variational Autoencoders\"\n",
    "toc: true\n",
    "toc-depth: 3\n",
    "format: \n",
    "  html:\n",
    "    code-fold: true\n",
    "    theme:\n",
    "          light: flatly\n",
    "          dark: darkly\n",
    "jupyter: python3\n",
    "---"
   ]
  },
  {
   "cell_type": "markdown",
   "id": "13eda06c-18ca-4cc4-8f43-66d001006474",
   "metadata": {},
   "source": [
    "* Autoencoders are pretty neat, but can we improve our models ability to understand the multi-dimensional space of our data?\n",
    "    + In this notebook we'll play with `variational autoencoders` to get a better feel for how they work and understand how they improve upon our vanilla autoencoder"
   ]
  },
  {
   "cell_type": "code",
   "execution_count": null,
   "id": "37ced449-a0ba-4eef-8cb0-5b1b4bed240f",
   "metadata": {},
   "outputs": [],
   "source": [
    "#| echo: false\n",
    "from data import *\n",
    "from utils import *\n",
    "from model import *"
   ]
  },
  {
   "cell_type": "code",
   "execution_count": null,
   "id": "adf45147-6d91-4b0c-9aca-108dec82ed3b",
   "metadata": {},
   "outputs": [],
   "source": [
    "#| echo: false\n",
    "plt.style.use('dark_background')"
   ]
  },
  {
   "cell_type": "code",
   "execution_count": null,
   "id": "66f636f0-8854-4774-b3ec-fdbc4782c04c",
   "metadata": {},
   "outputs": [],
   "source": [
    "#| echo: false\n",
    "#| output: false\n",
    "device = 'cuda' if torch.cuda.is_available() else 'cpu'\n",
    "dls, train_df, valid_df = get_data()"
   ]
  },
  {
   "cell_type": "markdown",
   "id": "aaa25425-9e21-4b90-9984-b3a6b8251f72",
   "metadata": {},
   "source": [
    "## Dataset"
   ]
  },
  {
   "cell_type": "markdown",
   "id": "e7adee12-e3e8-4474-a1b7-6c5ec1136585",
   "metadata": {},
   "source": [
    "* Our dataset is MNIST\n",
    "    + A selection of ~70,000 handwritten digits -- a few sampels can be seen below:"
   ]
  },
  {
   "cell_type": "code",
   "execution_count": null,
   "id": "b7e6aed3-736e-48b9-8e4f-6331ceb0c9aa",
   "metadata": {},
   "outputs": [
    {
     "data": {
      "image/png": "[encoded data removed]",
      "text/plain": [
       "<Figure size 400x400 with 3 Axes>"
      ]
     },
     "metadata": {},
     "output_type": "display_data"
    }
   ],
   "source": [
    "#| echo: true\n",
    "plot_dataset(train_df, num_samples=3)"
   ]
  },
  {
   "cell_type": "code",
   "execution_count": null,
   "id": "ffe17dcf-3ca2-41f3-94b9-7997cf4c0664",
   "metadata": {},
   "outputs": [
    {
     "data": {
      "text/plain": [
       "tensor([[ 0.0120,  0.0284],\n",
       "        [ 0.0093, -0.0799]])"
      ]
     },
     "execution_count": null,
     "metadata": {},
     "output_type": "execute_result"
    }
   ],
   "source": [
    "mean=0.0 \n",
    "std=0.05\n",
    "torch.normal(mean=torch.tensor(mean), std=torch.tensor(std),\n",
    "            size=(2,2))"
   ]
  },
  {
   "cell_type": "code",
   "execution_count": null,
   "id": "d767aa44-8e85-4f42-8889-a7409a26fb1f",
   "metadata": {},
   "outputs": [
    {
     "data": {
      "text/plain": [
       "torch.Size([64, 1, 28, 28])"
      ]
     },
     "execution_count": null,
     "metadata": {},
     "output_type": "execute_result"
    }
   ],
   "source": [
    "batch = next(iter(dls.train))\n",
    "batch[0].to('cpu'); \n",
    "batch[1].to('cpu');\n",
    "batch[0].shape"
   ]
  },
  {
   "cell_type": "code",
   "execution_count": null,
   "id": "a9614635-efbd-4fb8-9cce-f1169e885e8e",
   "metadata": {},
   "outputs": [],
   "source": [
    "class Encoder(torch.nn.Module):\n",
    "    def __init__(self, conv_channels=[28,64,128]):\n",
    "        super(Encoder, self).__init__()\n",
    "        self.int_conv_layers = conv_channels\n",
    "        self.conv_body = self.get_conv_layers()\n",
    "        \n",
    "    def get_conv_layers(self, flatten=True):\n",
    "        conv_layers = torch.nn.ModuleList()\n",
    "        for x in range(len(self.int_conv_layers)):\n",
    "            if x==0: in_ch=1\n",
    "            else: in_ch = self.int_conv_layers[x-1]\n",
    "            out_ch = self.int_conv_layers[x]\n",
    "            conv_layers.append(self.get_conv(in_ch, out_ch))\n",
    "        if flatten: conv_layers.append(torch.nn.Flatten())\n",
    "        return torch.nn.Sequential(*conv_layers)\n",
    "                                                    \n",
    "    \n",
    "    def get_conv(self, in_ch, out_ch, activation=True, \n",
    "                 batch_norm=True):\n",
    "        conv_layer = torch.nn.ModuleList([torch.nn.Conv2d(in_ch, out_ch, \n",
    "                                                          kernel_size=3, \n",
    "                                                          stride=2, \n",
    "                                                          padding=1),])\n",
    "        if activation: conv_layer.append(torch.nn.ReLU())\n",
    "        if batch_norm: conv_layer.append(torch.nn.BatchNorm2d(out_ch))\n",
    "        return torch.nn.Sequential(*conv_layer)\n",
    "    \n",
    "    def forward(self, x):\n",
    "        return self.conv_body(x)"
   ]
  },
  {
   "cell_type": "code",
   "execution_count": null,
   "id": "cbe89b6d-a7da-4519-b558-0e9070c04dd7",
   "metadata": {},
   "outputs": [
    {
     "data": {
      "text/plain": [
       "torch.Size([64, 2048])"
      ]
     },
     "execution_count": null,
     "metadata": {},
     "output_type": "execute_result"
    }
   ],
   "source": [
    "encoder = Encoder([28, 64, 128])\n",
    "enc_out = encoder(batch[0].to('cpu'))\n",
    "enc_out.shape"
   ]
  },
  {
   "cell_type": "code",
   "execution_count": null,
   "id": "aba95aca-cf92-4fdc-8c15-9a3fb0a763fb",
   "metadata": {},
   "outputs": [],
   "source": [
    "import pdb"
   ]
  },
  {
   "cell_type": "code",
   "execution_count": null,
   "id": "9a110dba-1231-4742-bd04-08d661fef124",
   "metadata": {},
   "outputs": [],
   "source": [
    "class VaeSampler(torch.nn.Module):\n",
    "    def __init__(self):\n",
    "        super(VaeSampler, self).__init__()\n",
    "    \n",
    "    def forward(self, z_mean, z_var):\n",
    "        device = 'cuda' if z_mean.device.type == 'cuda' else 'cpu'\n",
    "        epsilon = torch.normal(mean=torch.tensor(0.0),\n",
    "                               std=torch.tensor(1.0),\n",
    "                               size=(z_mean.shape[0],\n",
    "                                     z_mean.shape[1])).to(device)\n",
    "        z = z_mean + torch.exp(0.5 * z_var.float()) * epsilon\n",
    "        return z"
   ]
  },
  {
   "cell_type": "code",
   "execution_count": null,
   "id": "a42ba57c-c3c0-4be3-9a27-971f5811c628",
   "metadata": {},
   "outputs": [],
   "source": [
    "#torch.nn.Linear(2,2)(torch.tensor(np.random.random((2,2))).float().to('cuda'))"
   ]
  },
  {
   "cell_type": "code",
   "execution_count": null,
   "id": "50378e88-4927-4361-9579-cad990836e7a",
   "metadata": {},
   "outputs": [],
   "source": [
    "class Vae(torch.nn.Module): \n",
    "    def __init__(self):\n",
    "        super(Vae, self).__init__()\n",
    "        self.encoder = Encoder()\n",
    "        self.mean_lin = torch.nn.Linear(2048, 2)\n",
    "        self.var_lin = torch.nn.Linear(2048, 2)\n",
    "        self.sampler = VaeSampler()\n",
    "        self.decoder = Decoder()\n",
    "    \n",
    "    def forward(self, x):\n",
    "        z_mean, z_var = self.encode(x)\n",
    "        z = self.sampler(z_mean, z_var)\n",
    "        reconstruction = self.decoder(z)\n",
    "        return reconstruction, z_mean, z_var\n",
    "    \n",
    "    \n",
    "    def encode(self, x):\n",
    "        x = self.encoder(x)\n",
    "        #pdb.set_trace()\n",
    "        z_mean = self.mean_lin(x)\n",
    "        z_var = self.var_lin(x)\n",
    "        return z_mean, z_var\n",
    "    \n",
    "    def decode(self, x):\n",
    "        x = self.decoder(x)\n",
    "        return x\n",
    "    \n",
    "    def generate(self, x):\n",
    "        return self.decoder(self.sampler(*self.encode(x)))"
   ]
  },
  {
   "cell_type": "code",
   "execution_count": null,
   "id": "db9d3bc1-1933-4913-80f9-4a0b0c6a5d10",
   "metadata": {},
   "outputs": [
    {
     "data": {
      "text/plain": [
       "(torch.Size([32, 1, 28, 28]),\n",
       " torch.Size([32, 2]),\n",
       " torch.Size([32, 2]),\n",
       " torch.Size([32, 1, 28, 28]),\n",
       " torch.Size([32, 1, 28, 28]))"
      ]
     },
     "execution_count": null,
     "metadata": {},
     "output_type": "execute_result"
    }
   ],
   "source": [
    "#| echo: false\n",
    "model = Vae().to('cuda')\n",
    "model.to('cuda');\n",
    "model_out = model(batch[0])\n",
    "recon = model.generate(batch[0])\n",
    "recon, zm, zv = model_out\n",
    "recon.shape, zm.shape, zv.shape, batch[0].shape, recon.shape"
   ]
  },
  {
   "cell_type": "code",
   "execution_count": null,
   "id": "ab9a91fc-b20b-4042-99b4-996a20d0fa28",
   "metadata": {},
   "outputs": [],
   "source": [
    "class FeatureLoss(Module):\n",
    "    def __init__(self):\n",
    "        self.recon_loss = torch.nn.BCEWithLogitsLoss()\n",
    "        #self.reset_metrics()\n",
    "\n",
    "    def forward(self, model_out, target):\n",
    "        reconstruction, z_mean, z_var = model_out\n",
    "        reconstruction_loss = self.recon_loss(recon, batch[0])\n",
    "        kl_loss = torch.sum(-0.5 * (1 + z_var - z_mean**2 - torch.exp(z_var)))\n",
    "        total_loss = reconstruction_loss + kl_loss\n",
    "        reconstruction_loss.detach()\n",
    "        kl_loss.detach()\n",
    "        return total_loss#reconstruction_loss + kl_loss"
   ]
  },
  {
   "cell_type": "code",
   "execution_count": null,
   "id": "46f44a6c-4fe3-479c-8c44-fcb8ee1c3788",
   "metadata": {},
   "outputs": [],
   "source": [
    "class ReconLoss(Module):\n",
    "    def __init__(self):\n",
    "        self.loss = torch.nn.BCEWithLogitsLoss()\n",
    "    def forward(self, reconstruction, target):\n",
    "        return self.loss(reconstruction, target)\n",
    "\n",
    "class KlLoss(Module):\n",
    "    def __init__(self):\n",
    "        pass\n",
    "    def forward(self, z_mean, z_var):\n",
    "        return torch.sum(-0.5 * (1 + z_var - z_mean**2 - torch.exp(z_var)))"
   ]
  },
  {
   "cell_type": "code",
   "execution_count": null,
   "id": "7ddef62f-1170-4a0f-892a-79f65ec7e470",
   "metadata": {},
   "outputs": [
    {
     "data": {
      "text/plain": [
       "device(type='cuda', index=0)"
      ]
     },
     "execution_count": null,
     "metadata": {},
     "output_type": "execute_result"
    }
   ],
   "source": [
    "loss_func = FeatureLoss()\n",
    "loss = loss_func(model_out, batch[1])\n",
    "#loss.backward()\n",
    "loss.device"
   ]
  },
  {
   "cell_type": "code",
   "execution_count": null,
   "id": "97dba1e3-f482-4707-91fc-5b434c54b87d",
   "metadata": {},
   "outputs": [
    {
     "name": "stdout",
     "output_type": "stream",
     "text": [
      "starting epoch #0\n",
      "batch #0 completed + recon_loss31.617172241210938\n",
      "starting epoch #1\n",
      "batch #0 completed + recon_loss769.042724609375\n",
      "starting epoch #2\n",
      "batch #0 completed + recon_loss-1807.329345703125\n",
      "starting epoch #3\n",
      "batch #0 completed + recon_loss-4594.4658203125\n",
      "starting epoch #4\n",
      "batch #0 completed + recon_loss-6552.66357421875\n"
     ]
    }
   ],
   "source": [
    "opt = torch.optim.Adam(model.parameters(), lr=0.03)\n",
    "recon_loss_func = ReconLoss()#torch.nn.BCEWithLogitsLoss()\n",
    "kl_loss_func = KlLoss()\n",
    "for x in range(5):\n",
    "    print(f'starting epoch #{x}')\n",
    "    for idx, batch in enumerate(dls.train):#len(dls.train):\n",
    "        opt.zero_grad()\n",
    "        recon, zm, zv = model(batch[0])\n",
    "        recon_loss = recon_loss_func(recon, batch[0])\n",
    "        recon_loss.backward(retain_graph=True)\n",
    "\n",
    "        kl_loss = kl_loss_func(zm, zv)\n",
    "        kl_loss.backward()\n",
    "        total_loss = kl_loss + recon_loss\n",
    "        \n",
    "        if idx % len(dls.train) == 0: print(f'batch #{idx} completed + recon_loss: {total_loss}')\n",
    "        opt.step()"
   ]
  },
  {
   "cell_type": "code",
   "execution_count": null,
   "id": "12a9e089-7726-44fe-bc0e-6bdb22cbc906",
   "metadata": {},
   "outputs": [],
   "source": [
    "#| echo: true\n",
    "#model = Vae().to('cuda')\n",
    "#learner = Learner(dls, model, \n",
    "#                  loss_func= FeatureLoss())\n",
    "#learner.fine_tune(1, 3e-3)"
   ]
  },
  {
   "cell_type": "code",
   "execution_count": null,
   "id": "c316623d-c68b-46ce-92ea-a7ae34b7c350",
   "metadata": {},
   "outputs": [],
   "source": [
    "#learner.opt_func"
   ]
  },
  {
   "cell_type": "markdown",
   "id": "142a06b1-95ce-4ac9-bab0-b00c5068e984",
   "metadata": {},
   "source": [
    "## Reconstructed Images"
   ]
  },
  {
   "cell_type": "code",
   "execution_count": null,
   "id": "66387dad-104c-4fc9-a5a6-643ff97e0263",
   "metadata": {},
   "outputs": [],
   "source": [
    "def get_valid_results(model, dl, num_samples=8):\n",
    "    device = 'cuda' if torch.cuda.is_available() else 'cpu'\n",
    "    batch = next(iter(dl))\n",
    "    output, _, _ = model(batch[0].to(device))#.detach().cpu()\n",
    "    output = output.detach().cpu()\n",
    "    return batch[0][:num_samples].cpu(), output[:num_samples]"
   ]
  },
  {
   "cell_type": "code",
   "execution_count": null,
   "id": "7c59d9eb-0c0f-4bad-a3de-1b261bfb64fe",
   "metadata": {},
   "outputs": [
    {
     "data": {
      "image/png": "[encoded data removed]",
      "text/plain": [
       "<Figure size 400x800 with 16 Axes>"
      ]
     },
     "metadata": {},
     "output_type": "display_data"
    }
   ],
   "source": [
    "#| echo: false\n",
    "plt_subs(*get_valid_results(model, dls.train), size=2)"
   ]
  },
  {
   "cell_type": "markdown",
   "id": "5f8a0cbf-9ff0-46b9-98f2-b9abc5161fc9",
   "metadata": {},
   "source": [
    "## Latent space exploration\n",
    "\n",
    "* Lets see how our validation set gets mapped into embedding space via our encoder\n",
    "    + the model is able to map each number into it's own subspace -- some overlap considerably more than others"
   ]
  },
  {
   "cell_type": "markdown",
   "id": "d6bccd3f-4b4a-488b-bed7-f25c3d673cae",
   "metadata": {},
   "source": [
    "## Function below needs to be modified/generalized"
   ]
  },
  {
   "cell_type": "code",
   "execution_count": null,
   "id": "65610997-384c-4c6c-867f-8b37598c1b8a",
   "metadata": {},
   "outputs": [],
   "source": [
    "#| fig-cap: \"Figure 2: Embedding Space and Latent Reconstructions\"\n",
    "#| fig-subcap:\n",
    "#|   - \"left: embedding scatter plot <br> right: reconstructed latents\"\n",
    "#plot_latent_regen(model, min=-100, max=100)"
   ]
  },
  {
   "cell_type": "code",
   "execution_count": null,
   "id": "66149387-d9ac-4adf-8dc1-3a1955bc1924",
   "metadata": {},
   "outputs": [],
   "source": []
  }
 ],
 "metadata": {
  "kernelspec": {
   "display_name": "python3",
   "language": "python",
   "name": "python3"
  }
 },
 "nbformat": 4,
 "nbformat_minor": 5
}
