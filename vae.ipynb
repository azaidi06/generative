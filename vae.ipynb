{
 "cells": [
  {
   "cell_type": "raw",
   "id": "d63bc8aa-1ad6-4f8d-9be9-52edd69fdbf6",
   "metadata": {},
   "source": [
    "---\n",
    "title: \"Variational Autoencoders\"\n",
    "toc: true\n",
    "toc-depth: 3\n",
    "format: \n",
    "  html:\n",
    "    code-fold: true\n",
    "    theme:\n",
    "          light: flatly\n",
    "          dark: darkly\n",
    "jupyter: python3\n",
    "---"
   ]
  },
  {
   "cell_type": "markdown",
   "id": "13eda06c-18ca-4cc4-8f43-66d001006474",
   "metadata": {},
   "source": [
    "* Autoencoders are pretty neat, but can we improve our models ability to understand the multi-dimensional space of our data?\n",
    "    + In this notebook we'll play with `variational autoencoders` to get a better feel for how they work and understand how they improve upon our vanilla autoencoder"
   ]
  },
  {
   "cell_type": "code",
   "execution_count": null,
   "id": "37ced449-a0ba-4eef-8cb0-5b1b4bed240f",
   "metadata": {},
   "outputs": [],
   "source": [
    "#| echo: false\n",
    "from data import *\n",
    "from utils import *\n",
    "from model import *\n",
    "import pdb"
   ]
  },
  {
   "cell_type": "code",
   "execution_count": null,
   "id": "adf45147-6d91-4b0c-9aca-108dec82ed3b",
   "metadata": {},
   "outputs": [],
   "source": [
    "#| echo: false\n",
    "plt.style.use('dark_background')"
   ]
  },
  {
   "cell_type": "code",
   "execution_count": null,
   "id": "66f636f0-8854-4774-b3ec-fdbc4782c04c",
   "metadata": {},
   "outputs": [],
   "source": [
    "#| echo: false\n",
    "#| output: false\n",
    "device = 'cuda' if torch.cuda.is_available() else 'cpu'\n",
    "dls, train_df, valid_df = get_data()"
   ]
  },
  {
   "cell_type": "markdown",
   "id": "aaa25425-9e21-4b90-9984-b3a6b8251f72",
   "metadata": {},
   "source": [
    "## Dataset"
   ]
  },
  {
   "cell_type": "markdown",
   "id": "e7adee12-e3e8-4474-a1b7-6c5ec1136585",
   "metadata": {},
   "source": [
    "* Our dataset is MNIST\n",
    "    + A selection of ~70,000 handwritten digits -- a few sampels can be seen below:"
   ]
  },
  {
   "cell_type": "code",
   "execution_count": null,
   "id": "b7e6aed3-736e-48b9-8e4f-6331ceb0c9aa",
   "metadata": {},
   "outputs": [
    {
     "data": {
      "image/png": "[encoded data removed]",
      "text/plain": [
       "<Figure size 400x400 with 3 Axes>"
      ]
     },
     "metadata": {},
     "output_type": "display_data"
    }
   ],
   "source": [
    "#| echo: true\n",
    "plot_dataset(train_df, num_samples=3)"
   ]
  },
  {
   "cell_type": "code",
   "execution_count": null,
   "id": "d767aa44-8e85-4f42-8889-a7409a26fb1f",
   "metadata": {},
   "outputs": [
    {
     "data": {
      "text/plain": [
       "torch.Size([64, 1, 28, 28])"
      ]
     },
     "execution_count": null,
     "metadata": {},
     "output_type": "execute_result"
    }
   ],
   "source": [
    "batch = next(iter(dls.train))\n",
    "batch[0].to('cpu'); \n",
    "batch[1].to('cpu');\n",
    "batch[0].shape"
   ]
  },
  {
   "cell_type": "code",
   "execution_count": null,
   "id": "a9614635-efbd-4fb8-9cce-f1169e885e8e",
   "metadata": {},
   "outputs": [],
   "source": [
    "# We'll have to change the format of our encoder\n",
    "\n",
    "class Encoder(torch.nn.Module):\n",
    "    def __init__(self, conv_channels=[28,64,128]):\n",
    "        super(Encoder, self).__init__()\n",
    "        self.int_conv_layers = conv_channels\n",
    "        self.conv_body = self.get_conv_layers()\n",
    "        \n",
    "    def get_conv_layers(self, flatten=True):\n",
    "        conv_layers = torch.nn.ModuleList()\n",
    "        for x in range(len(self.int_conv_layers)):\n",
    "            if x==0: in_ch=1\n",
    "            else: in_ch = self.int_conv_layers[x-1]\n",
    "            out_ch = self.int_conv_layers[x]\n",
    "            conv_layers.append(self.get_conv(in_ch, out_ch))\n",
    "        if flatten: conv_layers.append(torch.nn.Flatten())\n",
    "        return torch.nn.Sequential(*conv_layers)\n",
    "                                                    \n",
    "    \n",
    "    def get_conv(self, in_ch, out_ch, activation=True, \n",
    "                 batch_norm=True):\n",
    "        conv_layer = torch.nn.ModuleList([torch.nn.Conv2d(in_ch, out_ch, \n",
    "                                                          kernel_size=3, \n",
    "                                                          stride=2, \n",
    "                                                          padding=1),])\n",
    "        if activation: conv_layer.append(torch.nn.ReLU())\n",
    "        if batch_norm: conv_layer.append(torch.nn.BatchNorm2d(out_ch))\n",
    "        return torch.nn.Sequential(*conv_layer)\n",
    "    \n",
    "    def forward(self, x):\n",
    "        return self.conv_body(x)"
   ]
  },
  {
   "cell_type": "code",
   "execution_count": null,
   "id": "cbe89b6d-a7da-4519-b558-0e9070c04dd7",
   "metadata": {},
   "outputs": [
    {
     "data": {
      "text/plain": [
       "torch.Size([64, 2048])"
      ]
     },
     "execution_count": null,
     "metadata": {},
     "output_type": "execute_result"
    }
   ],
   "source": [
    "encoder = Encoder([28, 64, 128])\n",
    "enc_out = encoder(batch[0].to('cpu'))\n",
    "enc_out.shape"
   ]
  },
  {
   "cell_type": "code",
   "execution_count": null,
   "id": "50378e88-4927-4361-9579-cad990836e7a",
   "metadata": {},
   "outputs": [],
   "source": [
    "class VaeSampler(torch.nn.Module):\n",
    "    def __init__(self):\n",
    "        super(VaeSampler, self).__init__()\n",
    "    \n",
    "    def forward(self, z_mean, z_var):\n",
    "        device = 'cuda' if z_mean.device.type == 'cuda' else 'cpu'\n",
    "        epsilon = torch.normal(mean=torch.tensor(0.0),\n",
    "                               std=torch.tensor(1.0),\n",
    "                               size=(z_mean.shape[0],\n",
    "                                     z_mean.shape[1])).to(device)\n",
    "        z = z_mean + torch.exp(0.5 * z_var.float()) * epsilon\n",
    "        return z\n",
    "\n",
    "\n",
    "class Vae(torch.nn.Module): \n",
    "    def __init__(self):\n",
    "        super(Vae, self).__init__()\n",
    "        self.encoder = Encoder()\n",
    "        self.mean_lin = torch.nn.Linear(2048, 2)\n",
    "        self.var_lin = torch.nn.Linear(2048, 2)\n",
    "        self.sampler = VaeSampler()\n",
    "        self.decoder = Decoder()\n",
    "    \n",
    "    def forward(self, x):\n",
    "        z_mean, z_var = self.encode(x)\n",
    "        z = self.sampler(z_mean, z_var)\n",
    "        reconstruction = self.decoder(z)\n",
    "        return reconstruction, z_mean, z_var\n",
    "    \n",
    "    \n",
    "    def encode(self, x):\n",
    "        x = self.encoder(x)\n",
    "        #pdb.set_trace()\n",
    "        z_mean = self.mean_lin(x)\n",
    "        z_var = self.var_lin(x)\n",
    "        return z_mean, z_var\n",
    "    \n",
    "    def decode(self, x):\n",
    "        x = self.decoder(x)\n",
    "        return x\n",
    "    \n",
    "    def generate(self, x):\n",
    "        return self.decoder(self.sampler(*self.encode(x)))"
   ]
  },
  {
   "cell_type": "code",
   "execution_count": null,
   "id": "db9d3bc1-1933-4913-80f9-4a0b0c6a5d10",
   "metadata": {},
   "outputs": [
    {
     "data": {
      "text/plain": [
       "(torch.Size([64, 1, 28, 28]),\n",
       " torch.Size([64, 2]),\n",
       " torch.Size([64, 2]),\n",
       " torch.Size([64, 1, 28, 28]),\n",
       " torch.Size([64, 1, 28, 28]))"
      ]
     },
     "execution_count": null,
     "metadata": {},
     "output_type": "execute_result"
    }
   ],
   "source": [
    "#| echo: false\n",
    "model = Vae().to('cuda')\n",
    "model.to('cuda');\n",
    "model_out = model(batch[0])\n",
    "recon = model.generate(batch[0])\n",
    "recon, zm, zv = model_out\n",
    "recon.shape, zm.shape, zv.shape, batch[0].shape, recon.shape"
   ]
  },
  {
   "cell_type": "code",
   "execution_count": null,
   "id": "ab9a91fc-b20b-4042-99b4-996a20d0fa28",
   "metadata": {},
   "outputs": [],
   "source": [
    "# CHANGED FastAI source code/learner function to \n",
    "# This will NOT work as is issue with backward pass\n",
    "# https://discuss.pytorch.org/t/runtimeerror-trying-to-backward-through-the-graph-a-second-time-but-the-buffers-have-already-been-freed-specify-retain-graph-true-when-calling-backward-the-first-time/6795/2?u=aza\n",
    "class FeatureLoss(Module):\n",
    "    def __init__(self):\n",
    "        self.recon_loss = torch.nn.BCEWithLogitsLoss()\n",
    "        self.kl_loss = KlLoss()\n",
    "\n",
    "    def forward(self, preds, ys):#reconstruction, z_mean, z_var, target):\n",
    "        reconstruction, z_mean, z_var = preds\n",
    "        #pdb.set_trace()\n",
    "        reconstruction_loss = self.recon_loss(reconstruction, ys)\n",
    "        kl_loss = self.kl_loss(z_mean, z_var)\n",
    "        total_loss = reconstruction_loss + kl_loss\n",
    "        return total_loss"
   ]
  },
  {
   "cell_type": "code",
   "execution_count": null,
   "id": "46f44a6c-4fe3-479c-8c44-fcb8ee1c3788",
   "metadata": {},
   "outputs": [],
   "source": [
    "class ReconLoss(Module):\n",
    "    def __init__(self):\n",
    "        self.loss = torch.nn.BCEWithLogitsLoss()\n",
    "    def forward(self, reconstruction, target):\n",
    "        return self.loss(reconstruction, target)\n",
    "\n",
    "class KlLoss(Module):\n",
    "    def __init__(self):\n",
    "        pass\n",
    "    def forward(self, z_mean, z_var):\n",
    "        return torch.sum(-0.5 * (1 + z_var - z_mean**2 - torch.exp(z_var)))"
   ]
  },
  {
   "cell_type": "code",
   "execution_count": null,
   "id": "c71c491d-578e-406f-b3f2-7a7f2f859d76",
   "metadata": {},
   "outputs": [],
   "source": [
    "learner = Learner(dls, model, loss_func=FeatureLoss())"
   ]
  },
  {
   "cell_type": "code",
   "execution_count": null,
   "id": "7bb05703-a74c-491d-b477-c740206b431e",
   "metadata": {},
   "outputs": [
    {
     "data": {
      "text/html": [
       "\n",
       "<style>\n",
       "    /* Turns off some styling */\n",
       "    progress {\n",
       "        /* gets rid of default border in Firefox and Opera. */\n",
       "        border: none;\n",
       "        /* Needs to be in here for Safari polyfill so background images work as expected. */\n",
       "        background-size: auto;\n",
       "    }\n",
       "    progress:not([value]), progress:not([value])::-webkit-progress-bar {\n",
       "        background: repeating-linear-gradient(45deg, #7e7e7e, #7e7e7e 10px, #5c5c5c 10px, #5c5c5c 20px);\n",
       "    }\n",
       "    .progress-bar-interrupted, .progress-bar-interrupted::-webkit-progress-bar {\n",
       "        background: #F44336;\n",
       "    }\n",
       "</style>\n"
      ],
      "text/plain": [
       "<IPython.core.display.HTML object>"
      ]
     },
     "metadata": {},
     "output_type": "display_data"
    },
    {
     "data": {
      "text/html": [
       "<table border=\"1\" class=\"dataframe\">\n",
       "  <thead>\n",
       "    <tr style=\"text-align: left;\">\n",
       "      <th>epoch</th>\n",
       "      <th>train_loss</th>\n",
       "      <th>valid_loss</th>\n",
       "      <th>time</th>\n",
       "    </tr>\n",
       "  </thead>\n",
       "  <tbody>\n",
       "    <tr>\n",
       "      <td>0</td>\n",
       "      <td>3835.430176</td>\n",
       "      <td>15421.790039</td>\n",
       "      <td>00:09</td>\n",
       "    </tr>\n",
       "  </tbody>\n",
       "</table>"
      ],
      "text/plain": [
       "<IPython.core.display.HTML object>"
      ]
     },
     "metadata": {},
     "output_type": "display_data"
    },
    {
     "data": {
      "text/html": [
       "\n",
       "<style>\n",
       "    /* Turns off some styling */\n",
       "    progress {\n",
       "        /* gets rid of default border in Firefox and Opera. */\n",
       "        border: none;\n",
       "        /* Needs to be in here for Safari polyfill so background images work as expected. */\n",
       "        background-size: auto;\n",
       "    }\n",
       "    progress:not([value]), progress:not([value])::-webkit-progress-bar {\n",
       "        background: repeating-linear-gradient(45deg, #7e7e7e, #7e7e7e 10px, #5c5c5c 10px, #5c5c5c 20px);\n",
       "    }\n",
       "    .progress-bar-interrupted, .progress-bar-interrupted::-webkit-progress-bar {\n",
       "        background: #F44336;\n",
       "    }\n",
       "</style>\n"
      ],
      "text/plain": [
       "<IPython.core.display.HTML object>"
      ]
     },
     "metadata": {},
     "output_type": "display_data"
    },
    {
     "data": {
      "text/html": [
       "<table border=\"1\" class=\"dataframe\">\n",
       "  <thead>\n",
       "    <tr style=\"text-align: left;\">\n",
       "      <th>epoch</th>\n",
       "      <th>train_loss</th>\n",
       "      <th>valid_loss</th>\n",
       "      <th>time</th>\n",
       "    </tr>\n",
       "  </thead>\n",
       "  <tbody>\n",
       "    <tr>\n",
       "      <td>0</td>\n",
       "      <td>-1385.485229</td>\n",
       "      <td>-1278.013550</td>\n",
       "      <td>00:09</td>\n",
       "    </tr>\n",
       "    <tr>\n",
       "      <td>1</td>\n",
       "      <td>-1718.317871</td>\n",
       "      <td>-1526.490479</td>\n",
       "      <td>00:09</td>\n",
       "    </tr>\n",
       "    <tr>\n",
       "      <td>2</td>\n",
       "      <td>-2201.940918</td>\n",
       "      <td>-2196.353516</td>\n",
       "      <td>00:09</td>\n",
       "    </tr>\n",
       "    <tr>\n",
       "      <td>3</td>\n",
       "      <td>-2914.556885</td>\n",
       "      <td>-2850.880371</td>\n",
       "      <td>00:09</td>\n",
       "    </tr>\n",
       "    <tr>\n",
       "      <td>4</td>\n",
       "      <td>-3863.321777</td>\n",
       "      <td>-3840.156738</td>\n",
       "      <td>00:09</td>\n",
       "    </tr>\n",
       "    <tr>\n",
       "      <td>5</td>\n",
       "      <td>-4990.641113</td>\n",
       "      <td>-4834.079590</td>\n",
       "      <td>00:09</td>\n",
       "    </tr>\n",
       "    <tr>\n",
       "      <td>6</td>\n",
       "      <td>-6197.874512</td>\n",
       "      <td>-6041.941895</td>\n",
       "      <td>00:09</td>\n",
       "    </tr>\n",
       "    <tr>\n",
       "      <td>7</td>\n",
       "      <td>-7471.800781</td>\n",
       "      <td>-7409.071777</td>\n",
       "      <td>00:09</td>\n",
       "    </tr>\n",
       "    <tr>\n",
       "      <td>8</td>\n",
       "      <td>-8756.613281</td>\n",
       "      <td>-8573.768555</td>\n",
       "      <td>00:09</td>\n",
       "    </tr>\n",
       "    <tr>\n",
       "      <td>9</td>\n",
       "      <td>-9989.429688</td>\n",
       "      <td>-10047.206055</td>\n",
       "      <td>00:09</td>\n",
       "    </tr>\n",
       "    <tr>\n",
       "      <td>10</td>\n",
       "      <td>-11233.286133</td>\n",
       "      <td>nan</td>\n",
       "      <td>00:09</td>\n",
       "    </tr>\n",
       "    <tr>\n",
       "      <td>11</td>\n",
       "      <td>-12270.185547</td>\n",
       "      <td>-12423.949219</td>\n",
       "      <td>00:09</td>\n",
       "    </tr>\n",
       "    <tr>\n",
       "      <td>12</td>\n",
       "      <td>-13398.527344</td>\n",
       "      <td>-13174.779297</td>\n",
       "      <td>00:09</td>\n",
       "    </tr>\n",
       "    <tr>\n",
       "      <td>13</td>\n",
       "      <td>-14227.798828</td>\n",
       "      <td>inf</td>\n",
       "      <td>00:09</td>\n",
       "    </tr>\n",
       "    <tr>\n",
       "      <td>14</td>\n",
       "      <td>-15133.358398</td>\n",
       "      <td>-14922.741211</td>\n",
       "      <td>00:09</td>\n",
       "    </tr>\n",
       "    <tr>\n",
       "      <td>15</td>\n",
       "      <td>-15773.891602</td>\n",
       "      <td>-16085.292969</td>\n",
       "      <td>00:09</td>\n",
       "    </tr>\n",
       "    <tr>\n",
       "      <td>16</td>\n",
       "      <td>-16347.763672</td>\n",
       "      <td>-16356.449219</td>\n",
       "      <td>00:09</td>\n",
       "    </tr>\n",
       "    <tr>\n",
       "      <td>17</td>\n",
       "      <td>-16739.123047</td>\n",
       "      <td>-16709.205078</td>\n",
       "      <td>00:09</td>\n",
       "    </tr>\n",
       "    <tr>\n",
       "      <td>18</td>\n",
       "      <td>-17156.457031</td>\n",
       "      <td>nan</td>\n",
       "      <td>00:08</td>\n",
       "    </tr>\n",
       "    <tr>\n",
       "      <td>19</td>\n",
       "      <td>-17552.746094</td>\n",
       "      <td>-17221.529297</td>\n",
       "      <td>00:09</td>\n",
       "    </tr>\n",
       "    <tr>\n",
       "      <td>20</td>\n",
       "      <td>-17711.880859</td>\n",
       "      <td>nan</td>\n",
       "      <td>00:09</td>\n",
       "    </tr>\n",
       "    <tr>\n",
       "      <td>21</td>\n",
       "      <td>-17683.521484</td>\n",
       "      <td>inf</td>\n",
       "      <td>00:09</td>\n",
       "    </tr>\n",
       "    <tr>\n",
       "      <td>22</td>\n",
       "      <td>-17733.599609</td>\n",
       "      <td>inf</td>\n",
       "      <td>00:09</td>\n",
       "    </tr>\n",
       "    <tr>\n",
       "      <td>23</td>\n",
       "      <td>-17651.351562</td>\n",
       "      <td>inf</td>\n",
       "      <td>00:09</td>\n",
       "    </tr>\n",
       "  </tbody>\n",
       "</table>"
      ],
      "text/plain": [
       "<IPython.core.display.HTML object>"
      ]
     },
     "metadata": {},
     "output_type": "display_data"
    }
   ],
   "source": [
    "learner.fine_tune(24, 3e-2)"
   ]
  },
  {
   "cell_type": "markdown",
   "id": "142a06b1-95ce-4ac9-bab0-b00c5068e984",
   "metadata": {},
   "source": [
    "## Reconstructed Images"
   ]
  },
  {
   "cell_type": "code",
   "execution_count": null,
   "id": "66387dad-104c-4fc9-a5a6-643ff97e0263",
   "metadata": {},
   "outputs": [],
   "source": [
    "def get_valid_results(model, dl, num_samples=8):\n",
    "    device = 'cuda' if torch.cuda.is_available() else 'cpu'\n",
    "    batch = next(iter(dl))\n",
    "    output, _, _ = model(batch[0].to(device))#.detach().cpu()\n",
    "    output = output.detach().cpu()\n",
    "    return batch[0][:num_samples].cpu(), output[:num_samples]"
   ]
  },
  {
   "cell_type": "code",
   "execution_count": null,
   "id": "7c59d9eb-0c0f-4bad-a3de-1b261bfb64fe",
   "metadata": {},
   "outputs": [
    {
     "data": {
      "image/png": "[encoded data removed]",
      "text/plain": [
       "<Figure size 400x800 with 16 Axes>"
      ]
     },
     "metadata": {},
     "output_type": "display_data"
    }
   ],
   "source": [
    "#| echo: false\n",
    "plt_subs(*get_valid_results(model, dls.train), size=2)"
   ]
  },
  {
   "cell_type": "markdown",
   "id": "5f8a0cbf-9ff0-46b9-98f2-b9abc5161fc9",
   "metadata": {},
   "source": [
    "## Latent space exploration\n",
    "\n",
    "* Lets see how our validation set gets mapped into embedding space via our encoder\n",
    "    + the model is able to map each number into it's own subspace -- some overlap considerably more than others"
   ]
  },
  {
   "cell_type": "markdown",
   "id": "d6bccd3f-4b4a-488b-bed7-f25c3d673cae",
   "metadata": {},
   "source": [
    "## Function below needs to be modified/generalized"
   ]
  },
  {
   "cell_type": "code",
   "execution_count": null,
   "id": "65610997-384c-4c6c-867f-8b37598c1b8a",
   "metadata": {},
   "outputs": [],
   "source": [
    "#| fig-cap: \"Figure 2: Embedding Space and Latent Reconstructions\"\n",
    "#| fig-subcap:\n",
    "#|   - \"left: embedding scatter plot <br> right: reconstructed latents\"\n",
    "#plot_latent_regen(model, min=-100, max=100)"
   ]
  },
  {
   "cell_type": "code",
   "execution_count": null,
   "id": "66149387-d9ac-4adf-8dc1-3a1955bc1924",
   "metadata": {},
   "outputs": [],
   "source": []
  }
 ],
 "metadata": {
  "kernelspec": {
   "display_name": "python3",
   "language": "python",
   "name": "python3"
  }
 },
 "nbformat": 4,
 "nbformat_minor": 5
}
